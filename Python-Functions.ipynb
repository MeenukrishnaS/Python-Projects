{
 "cells": [
  {
   "cell_type": "code",
   "execution_count": 1,
   "id": "01580f96-e181-479a-a8c1-1ec6a9b8e4e9",
   "metadata": {},
   "outputs": [
    {
     "name": "stdout",
     "output_type": "stream",
     "text": [
      "6\n"
     ]
    }
   ],
   "source": [
    "#1.What does the len() function do in Python? Write a code example using len() to find the length of a list.\n",
    "#len() function calculates the number of items in a string, list or dictionary. It will be an integer value.\n",
    "names=[\"John\",\"Anu\",\"Meenu\",1,4,6]\n",
    "no=len(names)\n",
    "print(no)"
   ]
  },
  {
   "cell_type": "code",
   "execution_count": 11,
   "id": "c4431b00-93f7-432d-9706-dc31df30da91",
   "metadata": {},
   "outputs": [
    {
     "name": "stdout",
     "output_type": "stream",
     "text": [
      "Hello, [ Meenu ]!\n"
     ]
    }
   ],
   "source": [
    "#Write a Python function greet(name) that takes a person's name as input and prints \"Hello, [name]!\".\n",
    "def greet(name):\n",
    "    print(\"Hello, [\",name,\"]!\")\n",
    "greet(\"Meenu\")"
   ]
  },
  {
   "cell_type": "code",
   "execution_count": 19,
   "id": "c16686d6-2e05-46e8-9aff-192947ce8146",
   "metadata": {},
   "outputs": [
    {
     "name": "stdout",
     "output_type": "stream",
     "text": [
      "The maximum value is: 8\n"
     ]
    }
   ],
   "source": [
    "#Write a Python function find_maximum(numbers) that takes a list of integers and returns the maximum value without using the built-in max() \n",
    "#function. Use a loop to iterate through the list and compare values.\n",
    "def find_maximum(numbers):\n",
    "    max_num=numbers[0]\n",
    "    for i in numbers:\n",
    "        if i>max_num:\n",
    "            max_num=i\n",
    "    return max_num\n",
    "list_numbers=[3,5,7,2,8,6]\n",
    "maximum_value=find_maximum(list_numbers)\n",
    "print(\"The maximum value is:\", maximum_value)"
   ]
  },
  {
   "cell_type": "code",
   "execution_count": 23,
   "id": "b028e883-7689-4f7a-bf53-4e5981ec1070",
   "metadata": {},
   "outputs": [
    {
     "name": "stdout",
     "output_type": "stream",
     "text": [
      "Local variable,x(local): 5\n",
      "Outside the function,x(global): 10\n"
     ]
    }
   ],
   "source": [
    "#Explain the difference between local and global variables in a Python function. Write a program where a global variable and a local variable\n",
    "#have the same name and show how Python differentiates between them.\n",
    "#In Python, the key difference between local and global variables is their scope:\n",
    "#Local variables are defined within a function and can only \n",
    "#be accessed within that function. They are created when the function is called and destroyed when the function finishes execution.\n",
    "#Global variables are defined outside any function, at the top level of the program. \n",
    "# Global variable\n",
    "x=10\n",
    "def variable_function():\n",
    "    x=5\n",
    "    print(\"Local variable,x(local):\", x)\n",
    "variable_function()\n",
    "print(\"Outside the function,x(global):\", x)"
   ]
  },
  {
   "cell_type": "code",
   "execution_count": 30,
   "id": "215909f8-4e34-48c3-acbb-442f3018542b",
   "metadata": {},
   "outputs": [
    {
     "name": "stdout",
     "output_type": "stream",
     "text": [
      "Area with length 10 and width 7: 70\n",
      "Area with length 10 and default width 5: 50\n"
     ]
    }
   ],
   "source": [
    "#Create a function calculate_area(length, width=5) that calculates the area of a rectangle. If only the length is provided, the function \n",
    "#should assume the width is 5. Show how the function behaves when called with and without the width argument.\n",
    "def calculate_area(length,width=5):\n",
    "    area=length*width\n",
    "    return area\n",
    "area_with_width=calculate_area(10,7)\n",
    "print(\"Area with length 10 and width 7:\", area_with_width)\n",
    "area_default_width=calculate_area(10)\n",
    "print(\"Area with length 10 and default width 5:\", area_default_width)"
   ]
  },
  {
   "cell_type": "code",
   "execution_count": null,
   "id": "894075bc-5c26-4e6e-9d64-fa98caba5f81",
   "metadata": {},
   "outputs": [],
   "source": []
  }
 ],
 "metadata": {
  "kernelspec": {
   "display_name": "Python 3 (ipykernel)",
   "language": "python",
   "name": "python3"
  },
  "language_info": {
   "codemirror_mode": {
    "name": "ipython",
    "version": 3
   },
   "file_extension": ".py",
   "mimetype": "text/x-python",
   "name": "python",
   "nbconvert_exporter": "python",
   "pygments_lexer": "ipython3",
   "version": "3.12.7"
  }
 },
 "nbformat": 4,
 "nbformat_minor": 5
}
