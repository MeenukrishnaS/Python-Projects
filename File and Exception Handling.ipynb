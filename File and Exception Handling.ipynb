{
 "cells": [
  {
   "cell_type": "code",
   "execution_count": 3,
   "id": "139c165b-e5df-4188-9a15-c2198af4a963",
   "metadata": {},
   "outputs": [
    {
     "name": "stdin",
     "output_type": "stream",
     "text": [
      "Enter the filename:  file\n"
     ]
    },
    {
     "name": "stdout",
     "output_type": "stream",
     "text": [
      "File not found\n"
     ]
    }
   ],
   "source": [
    "#1.\n",
    "filename=input(\"Enter the filename: \")\n",
    "try:\n",
    "    with open(filename,'r') as file:\n",
    "        contents=file.read()\n",
    "        print(\"File contents:\\n\",contents)\n",
    "except FileNotFoundError:\n",
    "    print(\"File not found\")"
   ]
  },
  {
   "cell_type": "code",
   "execution_count": 9,
   "id": "3b65e28c-4881-446c-975d-c2696aba5a36",
   "metadata": {},
   "outputs": [
    {
     "name": "stdin",
     "output_type": "stream",
     "text": [
      "Enter the source filename:  source\n",
      "Enter the destination filename:  dest\n"
     ]
    },
    {
     "name": "stdout",
     "output_type": "stream",
     "text": [
      "Source file not found\n"
     ]
    }
   ],
   "source": [
    "#2.\n",
    "source=input(\"Enter the source filename: \")\n",
    "destination=input(\"Enter the destination filename: \")\n",
    "try:\n",
    "    with open(source,'r') as sou_file:\n",
    "        contents=sou_file.read()\n",
    "    with open(destination,'w') as dest_file:\n",
    "        dest_file.write(contents)\n",
    "    print(\"File copied successfully\")\n",
    "except FileNotFoundError:\n",
    "    print(\"Source file not found\")"
   ]
  },
  {
   "cell_type": "code",
   "execution_count": 11,
   "id": "607e9b1d-d554-471c-9e11-c491b5ec8230",
   "metadata": {},
   "outputs": [
    {
     "name": "stdin",
     "output_type": "stream",
     "text": [
      "Enter the filename:  file\n"
     ]
    },
    {
     "name": "stdout",
     "output_type": "stream",
     "text": [
      "File not found\n"
     ]
    }
   ],
   "source": [
    "#3.\n",
    "filename=input(\"Enter the filename: \")\n",
    "try:\n",
    "    with open(filename,'r') as file:\n",
    "        contents=file.read()\n",
    "        words=contents.split()\n",
    "        print(\"Total number of words:\",len(words))\n",
    "except FileNotFoundError:\n",
    "    print(\"File not found\")"
   ]
  },
  {
   "cell_type": "code",
   "execution_count": 15,
   "id": "5766461b-a724-49b9-94c5-407165820999",
   "metadata": {},
   "outputs": [
    {
     "name": "stdin",
     "output_type": "stream",
     "text": [
      "Enter a number:  25\n"
     ]
    },
    {
     "name": "stdout",
     "output_type": "stream",
     "text": [
      "You entered: 25\n"
     ]
    }
   ],
   "source": [
    "#4.\n",
    "try:\n",
    "    user_input=input(\"Enter a number: \")\n",
    "    number=int(user_input)\n",
    "    print(\"You entered:\",number)\n",
    "except ValueError:\n",
    "    print(\"Invalid input.Please enter a valid integer.\")"
   ]
  },
  {
   "cell_type": "code",
   "execution_count": 19,
   "id": "d0028155-2402-443b-9296-b6e78d20db12",
   "metadata": {},
   "outputs": [
    {
     "name": "stdin",
     "output_type": "stream",
     "text": [
      "Enter a list of integers (space-separated): 2 4 6 8 10\n"
     ]
    },
    {
     "name": "stdout",
     "output_type": "stream",
     "text": [
      "All integers are non-negative\n"
     ]
    }
   ],
   "source": [
    "#5.\n",
    "try:\n",
    "    numbers=list(map(int,input(\"Enter a list of integers (space-separated):\").split()))\n",
    "    for num in numbers:\n",
    "        if num<0:\n",
    "            raise ValueError(\"Negative integers are not allowed\")\n",
    "    print(\"All integers are non-negative\")\n",
    "except ValueError as ve:\n",
    "    print(\"Error:\",ve)"
   ]
  },
  {
   "cell_type": "code",
   "execution_count": 21,
   "id": "d46ec5bc-9c28-4b93-8bf1-76502bddf5e4",
   "metadata": {},
   "outputs": [
    {
     "name": "stdin",
     "output_type": "stream",
     "text": [
      "Enter a list of integers(space-separated):  2 4 6 8 7 3 \n"
     ]
    },
    {
     "name": "stdout",
     "output_type": "stream",
     "text": [
      "Average: 5.0\n",
      "Program finished\n"
     ]
    }
   ],
   "source": [
    "#6.\n",
    "try:\n",
    "    numbers=list(map(int, input(\"Enter a list of integers(space-separated): \").split()))\n",
    "    average=sum(numbers)/len(numbers)\n",
    "    print(\"Average:\", average)\n",
    "except ZeroDivisionError:\n",
    "    print(\"List is empty, cannot divide by zero\")\n",
    "except ValueError:\n",
    "    print(\"Invalid input, please enter integers only\")\n",
    "finally:\n",
    "    print(\"Program finished\")"
   ]
  },
  {
   "cell_type": "code",
   "execution_count": 23,
   "id": "d5c97ad5-e9ff-4620-a7a3-d104627d4c57",
   "metadata": {},
   "outputs": [
    {
     "name": "stdin",
     "output_type": "stream",
     "text": [
      "Enter the filename:  Meenu\n",
      "Enter the string to write to the file:  hai Meenu\n"
     ]
    },
    {
     "name": "stdout",
     "output_type": "stream",
     "text": [
      "Welcome .... string written to file successfully\n"
     ]
    }
   ],
   "source": [
    "#7.\n",
    "filename=input(\"Enter the filename: \")\n",
    "text=input(\"Enter the string to write to the file: \")\n",
    "try:\n",
    "    with open(filename,'w') as file:\n",
    "        file.write(text)\n",
    "    print(\"Welcome .... string written to file successfully\")\n",
    "except Exception as e:\n",
    "    print(\"An error occurred: \", e)"
   ]
  },
  {
   "cell_type": "code",
   "execution_count": null,
   "id": "fe8e51fb-48e7-4e80-a140-eaba0b4288b4",
   "metadata": {},
   "outputs": [],
   "source": []
  }
 ],
 "metadata": {
  "kernelspec": {
   "display_name": "Python 3 (ipykernel)",
   "language": "python",
   "name": "python3"
  },
  "language_info": {
   "codemirror_mode": {
    "name": "ipython",
    "version": 3
   },
   "file_extension": ".py",
   "mimetype": "text/x-python",
   "name": "python",
   "nbconvert_exporter": "python",
   "pygments_lexer": "ipython3",
   "version": "3.12.7"
  }
 },
 "nbformat": 4,
 "nbformat_minor": 5
}
