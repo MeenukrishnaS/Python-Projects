{
 "cells": [
  {
   "cell_type": "code",
   "execution_count": 1,
   "id": "e101592b-b2de-4ef5-9e4c-456b21dcf472",
   "metadata": {},
   "outputs": [],
   "source": [
    "import numpy as np\n",
    "import pandas as pd"
   ]
  },
  {
   "cell_type": "code",
   "execution_count": 3,
   "id": "e484cb2d-987d-4db1-b821-23fbad7958d7",
   "metadata": {},
   "outputs": [
    {
     "name": "stdout",
     "output_type": "stream",
     "text": [
      "Exercise 1:\n",
      " [[ 1  2  3  4  5]\n",
      " [ 6  7  8  9 10]]\n"
     ]
    }
   ],
   "source": [
    "#1.\n",
    "arr1=np.arange(1, 11)\n",
    "reshaped_arr1=arr1.reshape(2, 5)\n",
    "print(\"Exercise 1:\\n\",reshaped_arr1)"
   ]
  },
  {
   "cell_type": "code",
   "execution_count": 5,
   "id": "e079abba-d186-44ac-ba16-26cd0e77f9a9",
   "metadata": {},
   "outputs": [
    {
     "name": "stdout",
     "output_type": "stream",
     "text": [
      "\n",
      "Exercise 2:\n",
      " [ 6  7  8  9 10 11 12 13 14 15 16]\n"
     ]
    }
   ],
   "source": [
    "#2.\n",
    "arr2=np.arange(1, 21)\n",
    "sliced_arr2=arr2[5:16]\n",
    "print(\"\\nExercise 2:\\n\",sliced_arr2)"
   ]
  },
  {
   "cell_type": "code",
   "execution_count": 7,
   "id": "7f8c1779-dbf0-4d42-927e-6c31f4358940",
   "metadata": {},
   "outputs": [
    {
     "name": "stdout",
     "output_type": "stream",
     "text": [
      "\n",
      "Exercise 3:\n",
      " apples     3\n",
      "bananas    2\n",
      "oranges    1\n",
      "pears      4\n",
      "dtype: int64\n"
     ]
    }
   ],
   "source": [
    "#3.\n",
    "fruit_series=pd.Series({'apples':3,'bananas':2,'oranges':1})\n",
    "fruit_series['pears']=4\n",
    "print(\"\\nExercise 3:\\n\",fruit_series)"
   ]
  },
  {
   "cell_type": "code",
   "execution_count": 9,
   "id": "eed5ed28-d482-42ee-aaea-6602098c3ef6",
   "metadata": {},
   "outputs": [
    {
     "name": "stdout",
     "output_type": "stream",
     "text": [
      "\n",
      "Exercise 4:\n",
      "       name  age gender\n",
      "0    Alice   25      F\n",
      "1      Bob   32      M\n",
      "2  Charlie   29      M\n",
      "3    David   45      M\n",
      "4      Eva   22      F\n",
      "5    Frank   36      M\n",
      "6    Grace   41      F\n",
      "7   Hannah   28      F\n",
      "8      Ian   33      M\n",
      "9     Jane   30      F\n"
     ]
    }
   ],
   "source": [
    "#4.\n",
    "data = {\n",
    "    'name':['Alice','Bob','Charlie','David','Eva','Frank','Grace','Hannah','Ian','Jane'],\n",
    "    'age':[25,32,29,45,22,36,41,28,33,30],\n",
    "    'gender':['F','M','M','M','F','M','F','F','M','F']\n",
    "}\n",
    "df=pd.DataFrame(data)\n",
    "print(\"\\nExercise 4:\\n\",df)"
   ]
  },
  {
   "cell_type": "code",
   "execution_count": 13,
   "id": "102bb5bf-ae1b-4c7a-b310-d6546d6bb187",
   "metadata": {},
   "outputs": [
    {
     "name": "stdout",
     "output_type": "stream",
     "text": [
      "\n",
      "Exercise 5:\n",
      "       name  age gender  occupation\n",
      "0    Alice   25      F  Programmer\n",
      "1      Bob   32      M     Manager\n",
      "2  Charlie   29      M     Analyst\n",
      "3    David   45      M     Manager\n",
      "4      Eva   22      F     Analyst\n",
      "5    Frank   36      M  Programmer\n",
      "6    Grace   41      F     Manager\n",
      "7   Hannah   28      F     Analyst\n",
      "8      Ian   33      M  Programmer\n",
      "9     Jane   30      F     Manager\n"
     ]
    }
   ],
   "source": [
    "#5.\n",
    "occupations=['Programmer','Manager','Analyst','Manager','Analyst','Programmer','Manager','Analyst','Programmer','Manager']\n",
    "df['occupation']=occupations\n",
    "print(\"\\nExercise 5:\\n\",df)"
   ]
  },
  {
   "cell_type": "code",
   "execution_count": 19,
   "id": "45cd2b41-8763-4432-a176-6860604962bf",
   "metadata": {},
   "outputs": [
    {
     "name": "stdout",
     "output_type": "stream",
     "text": [
      "\n",
      "Exercise 6:\n",
      "     name  age gender  occupation\n",
      "1    Bob   32      M     Manager\n",
      "3  David   45      M     Manager\n",
      "5  Frank   36      M  Programmer\n",
      "6  Grace   41      F     Manager\n",
      "8    Ian   33      M  Programmer\n",
      "9   Jane   30      F     Manager\n"
     ]
    }
   ],
   "source": [
    "#6.\n",
    "age_filtered_df=df[df['age']>=30]\n",
    "print(\"\\nExercise 6:\\n\",age_filtered_df)"
   ]
  },
  {
   "cell_type": "code",
   "execution_count": 21,
   "id": "cf89cc20-ef2b-47ad-b5d1-8432653d6eee",
   "metadata": {},
   "outputs": [
    {
     "name": "stdout",
     "output_type": "stream",
     "text": [
      "\n",
      "Exercise 7:\n",
      "       name  age gender  occupation\n",
      "0    Alice   25      F  Programmer\n",
      "1      Bob   32      M     Manager\n",
      "2  Charlie   29      M     Analyst\n",
      "3    David   45      M     Manager\n",
      "4      Eva   22      F     Analyst\n",
      "5    Frank   36      M  Programmer\n",
      "6    Grace   41      F     Manager\n",
      "7   Hannah   28      F     Analyst\n",
      "8      Ian   33      M  Programmer\n",
      "9     Jane   30      F     Manager\n"
     ]
    }
   ],
   "source": [
    "#7.\n",
    "csv_file=\"dataframe_output.csv\"\n",
    "df.to_csv(csv_file,index=False)\n",
    "df_from_csv=pd.read_csv(csv_file)\n",
    "print(\"\\nExercise 7:\\n\",df_from_csv)"
   ]
  },
  {
   "cell_type": "code",
   "execution_count": null,
   "id": "e6b6510d-a891-49cf-94e1-ebbf871b8597",
   "metadata": {},
   "outputs": [],
   "source": []
  }
 ],
 "metadata": {
  "kernelspec": {
   "display_name": "Python 3 (ipykernel)",
   "language": "python",
   "name": "python3"
  },
  "language_info": {
   "codemirror_mode": {
    "name": "ipython",
    "version": 3
   },
   "file_extension": ".py",
   "mimetype": "text/x-python",
   "name": "python",
   "nbconvert_exporter": "python",
   "pygments_lexer": "ipython3",
   "version": "3.12.7"
  }
 },
 "nbformat": 4,
 "nbformat_minor": 5
}
